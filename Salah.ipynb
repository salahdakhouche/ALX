{
  "nbformat": 4,
  "nbformat_minor": 0,
  "metadata": {
    "colab": {
      "name": "Salah",
      "provenance": [],
      "collapsed_sections": [],
      "include_colab_link": true
    },
    "kernelspec": {
      "name": "python3",
      "display_name": "Python 3"
    },
    "language_info": {
      "name": "python"
    }
  },
  "cells": [
    {
      "cell_type": "markdown",
      "metadata": {
        "id": "view-in-github",
        "colab_type": "text"
      },
      "source": [
        "<a href=\"https://colab.research.google.com/github/salahdakhouche/ALX/blob/main/Salah.ipynb\" target=\"_parent\"><img src=\"https://colab.research.google.com/assets/colab-badge.svg\" alt=\"Open In Colab\"/></a>"
      ]
    },
    {
      "cell_type": "markdown",
      "source": [
        "1 - Crée une variable entière nommée age qui stock l'age d'un individu\n"
      ],
      "metadata": {
        "id": "Ro3v0UBV8nRK"
      }
    },
    {
      "cell_type": "code",
      "execution_count": 2,
      "metadata": {
        "id": "N7CU1yFB8g6M"
      },
      "outputs": [],
      "source": [
        "age = 28"
      ]
    },
    {
      "cell_type": "markdown",
      "source": [
        "2 - Crée une variable décimale nommée taille qui stock la taille d'un individu\n"
      ],
      "metadata": {
        "id": "Nccn4WmL9Hfr"
      }
    },
    {
      "cell_type": "code",
      "source": [
        "taille = 1.82"
      ],
      "metadata": {
        "id": "QHVn6aBR9WKn"
      },
      "execution_count": 1,
      "outputs": []
    },
    {
      "cell_type": "markdown",
      "source": [
        "3 - Crée une variable chaine de caractère nommée nom qui stock le nom d'un individu"
      ],
      "metadata": {
        "id": "HRPJ7QBX9XBK"
      }
    },
    {
      "cell_type": "code",
      "source": [
        "nom = \"Dakhouche\""
      ],
      "metadata": {
        "id": "osamI92Z9dwY"
      },
      "execution_count": 3,
      "outputs": []
    },
    {
      "cell_type": "markdown",
      "source": [
        "4 - Crée une variable booléene nommée détection qui stock les résultats d'un détecteur de mensonge"
      ],
      "metadata": {
        "id": "tIA3Xdxt9eSx"
      }
    },
    {
      "cell_type": "code",
      "source": [
        "detection = False"
      ],
      "metadata": {
        "id": "weQjLgra90Pw"
      },
      "execution_count": 5,
      "outputs": []
    },
    {
      "cell_type": "markdown",
      "source": [
        "5 - Crée un ensemble de variables qui stock les informations suivantes sur un étudiant : nom, prénom, age, taille, sexe, domicile, diplomé(Oui ou Non)."
      ],
      "metadata": {
        "id": "b48OsapZ90w1"
      }
    },
    {
      "cell_type": "code",
      "source": [
        "nom = \"james\"\n",
        "prenom = \"Eric\"\n",
        "age = 27\n",
        "taille =1.91\n",
        "sexe =\"homme\"\n",
        "domicile = \"France\"\n",
        "diplome = \"oui\" "
      ],
      "metadata": {
        "id": "vRjNHXSL-ctr"
      },
      "execution_count": 6,
      "outputs": []
    },
    {
      "cell_type": "markdown",
      "source": [
        "6 - Fais la somme de ton age et de la valeur 22 et stock le résultat dans une nouvelle variable"
      ],
      "metadata": {
        "id": "jfnIvnNfIUL3"
      }
    },
    {
      "cell_type": "code",
      "source": [
        "n_age = age+22\n",
        "print(n_age)"
      ],
      "metadata": {
        "id": "BtMtAd_4IkCz",
        "colab": {
          "base_uri": "https://localhost:8080/"
        },
        "outputId": "aa13b8bd-7bf8-4ece-bc3f-77bb8d4232e9"
      },
      "execution_count": 11,
      "outputs": [
        {
          "output_type": "stream",
          "name": "stdout",
          "text": [
            "49\n"
          ]
        }
      ]
    },
    {
      "cell_type": "markdown",
      "source": [
        "7 - Soustrait ton age de la nouvelle variable obtenue en 6"
      ],
      "metadata": {
        "id": "5Oy-GNqQIwDw"
      }
    },
    {
      "cell_type": "code",
      "source": [
        "n_age=n_age-age\n",
        "print(n_age)"
      ],
      "metadata": {
        "id": "l-J0cMY6I-uD",
        "colab": {
          "base_uri": "https://localhost:8080/"
        },
        "outputId": "0b80e8ec-1d5d-4c90-880e-50174fade178"
      },
      "execution_count": 12,
      "outputs": [
        {
          "output_type": "stream",
          "name": "stdout",
          "text": [
            "22\n"
          ]
        }
      ]
    },
    {
      "cell_type": "markdown",
      "source": [
        "8 - Divise ton age par deux et stock le résultat dans une nouvelle variable"
      ],
      "metadata": {
        "id": "tDAa8wR2I-BH"
      }
    },
    {
      "cell_type": "code",
      "source": [
        "d_age = age/2\n",
        "print(d_age)"
      ],
      "metadata": {
        "id": "MHFTDHvEJGCB",
        "colab": {
          "base_uri": "https://localhost:8080/"
        },
        "outputId": "a01f953b-1476-4182-86c5-3cbc0f898b44"
      },
      "execution_count": 13,
      "outputs": [
        {
          "output_type": "stream",
          "name": "stdout",
          "text": [
            "13.5\n"
          ]
        }
      ]
    },
    {
      "cell_type": "markdown",
      "source": [
        "9 - Fais le produit de ton age et de la variable obtenue en 8"
      ],
      "metadata": {
        "id": "vQUpwCgtJIPq"
      }
    },
    {
      "cell_type": "code",
      "source": [
        "p_age = age*d_age\n",
        "print(p_age)"
      ],
      "metadata": {
        "id": "CEY8kPzoJS9X",
        "colab": {
          "base_uri": "https://localhost:8080/"
        },
        "outputId": "3b837773-c5cb-439b-e891-bc3a42a250e0"
      },
      "execution_count": 16,
      "outputs": [
        {
          "output_type": "stream",
          "name": "stdout",
          "text": [
            "364.5\n"
          ]
        }
      ]
    },
    {
      "cell_type": "markdown",
      "source": [
        "10 - Ton age a la puissance 3 donne ?"
      ],
      "metadata": {
        "id": "UUJ2thugJUBv"
      }
    },
    {
      "cell_type": "code",
      "source": [
        "print(age**3)"
      ],
      "metadata": {
        "id": "ya5xFavhJcHN",
        "colab": {
          "base_uri": "https://localhost:8080/"
        },
        "outputId": "b2ac231c-7881-4b74-9f46-c3e9fa8fef6c"
      },
      "execution_count": 22,
      "outputs": [
        {
          "output_type": "stream",
          "name": "stdout",
          "text": [
            "19683\n"
          ]
        }
      ]
    },
    {
      "cell_type": "markdown",
      "source": [
        "11 - Vérifie si les données 'Marc' et 'marc' sont égaux"
      ],
      "metadata": {
        "id": "kf7Zh6aGLaAh"
      }
    },
    {
      "cell_type": "code",
      "source": [
        "print('Marc'=='marc')"
      ],
      "metadata": {
        "id": "J2gGQDJILY4r",
        "colab": {
          "base_uri": "https://localhost:8080/"
        },
        "outputId": "5e97248e-1bb9-48c6-9fb0-54d0b398836a"
      },
      "execution_count": 23,
      "outputs": [
        {
          "output_type": "stream",
          "name": "stdout",
          "text": [
            "False\n"
          ]
        }
      ]
    },
    {
      "cell_type": "markdown",
      "source": [
        "12 - Vérifie si les données 14 et 14.0 sont inégaux"
      ],
      "metadata": {
        "id": "TXUhQfRNLpxl"
      }
    },
    {
      "cell_type": "code",
      "source": [
        "print(14 == 14.0)"
      ],
      "metadata": {
        "id": "3O8GE4VAL2Tx",
        "colab": {
          "base_uri": "https://localhost:8080/"
        },
        "outputId": "ed99b9f4-77b3-475f-e354-22b205157b55"
      },
      "execution_count": 24,
      "outputs": [
        {
          "output_type": "stream",
          "name": "stdout",
          "text": [
            "True\n"
          ]
        }
      ]
    },
    {
      "cell_type": "markdown",
      "source": [
        "13 - Compare la variable obtenue en 6 à celle en 8"
      ],
      "metadata": {
        "id": "UsCgvGKJL2s5"
      }
    },
    {
      "cell_type": "code",
      "source": [
        "if n_age>d_age :\n",
        "  print(\"la valeur en 6 est supérieure à la valeur en 8\")\n",
        "elif n_age<d_age :\n",
        "  print(\"la valeur en 8 est supérieure à la valeur en 6\")\n",
        "else :\n",
        "  print('les valeurs sont égaux')\n",
        " "
      ],
      "metadata": {
        "id": "3ATTYxleMJM6",
        "colab": {
          "base_uri": "https://localhost:8080/"
        },
        "outputId": "efb1eaf4-13e4-4cbc-f6ce-2df9a013a1cb"
      },
      "execution_count": 25,
      "outputs": [
        {
          "output_type": "stream",
          "name": "stdout",
          "text": [
            "la valeur en 6 est supérieure à la valeur en 8\n"
          ]
        }
      ]
    },
    {
      "cell_type": "markdown",
      "source": [
        "14 - Crée une fonction qui nous donnera la possibilité de comparer deux variables"
      ],
      "metadata": {
        "id": "AqTJopYlMUiz"
      }
    },
    {
      "cell_type": "code",
      "source": [
        "def compare(p_valeur, d_valeur) :\n",
        "  if p_valeur > d_valeur :\n",
        "    print(f'{p_valeur} > {d_valeur}')\n",
        "  elif p_valeur < d_valeur :\n",
        "    print(f'{p_valeur} < {d_valeur}')\n",
        "  else :\n",
        "    print(f'{p_valeur} = {d_valeur}')\n",
        "\n",
        "compare(2,2)"
      ],
      "metadata": {
        "id": "aqQFaAIMMreS",
        "colab": {
          "base_uri": "https://localhost:8080/"
        },
        "outputId": "46b16ffd-19a8-46cb-b4f7-c2dc6f60db7b"
      },
      "execution_count": 28,
      "outputs": [
        {
          "output_type": "stream",
          "name": "stdout",
          "text": [
            "2 = 2\n"
          ]
        }
      ]
    },
    {
      "cell_type": "markdown",
      "source": [
        "15 - Crée une fonction qui nous donnera le signe d'une variable"
      ],
      "metadata": {
        "id": "v1zvv_LGMr9h"
      }
    },
    {
      "cell_type": "code",
      "source": [
        "def signe(p_valeur) :\n",
        "  if p_valeur > 0 :\n",
        "    print(f'{p_valeur} est positif')\n",
        "  elif p_valeur < 0 :\n",
        "    print(f'{p_valeur} est négatif')\n",
        "  else :\n",
        "    print(f'{p_valeur} est null')\n",
        "\n",
        "signe(0)"
      ],
      "metadata": {
        "id": "OpInOmzFM75_",
        "colab": {
          "base_uri": "https://localhost:8080/"
        },
        "outputId": "a3204ad2-25cc-476b-8916-a54223bcb8d2"
      },
      "execution_count": 31,
      "outputs": [
        {
          "output_type": "stream",
          "name": "stdout",
          "text": [
            "0 est null\n"
          ]
        }
      ]
    },
    {
      "cell_type": "markdown",
      "source": [
        "16 - Crée une liste de 10 décimaux"
      ],
      "metadata": {
        "id": "m_JTFbxZe8eL"
      }
    },
    {
      "cell_type": "code",
      "source": [
        "liste = [0,1,2,3,4,5,6,7,8,9]\n",
        "print(liste)"
      ],
      "metadata": {
        "id": "V7PooO3De7C5",
        "colab": {
          "base_uri": "https://localhost:8080/"
        },
        "outputId": "39d088aa-7673-4152-e341-b24d27811f48"
      },
      "execution_count": 38,
      "outputs": [
        {
          "output_type": "stream",
          "name": "stdout",
          "text": [
            "[0, 1, 2, 3, 4, 5, 6, 7, 8, 9]\n"
          ]
        }
      ]
    },
    {
      "cell_type": "markdown",
      "source": [
        "16 - Crée une fonction qui calcule la somme des 3 premiers éléments de la liste"
      ],
      "metadata": {
        "id": "Y_tGxRulebYr"
      }
    },
    {
      "cell_type": "code",
      "source": [
        "def somme_trois(list):\n",
        "  value = 0\n",
        "  for i in range(3):\n",
        "    value+=list[i]\n",
        "  print(value)\n",
        "somme_trois(liste)"
      ],
      "metadata": {
        "id": "4nFc3RMXezQ_",
        "colab": {
          "base_uri": "https://localhost:8080/"
        },
        "outputId": "96fd8f6a-27bd-4e39-bbdc-e9c2923a4409"
      },
      "execution_count": 33,
      "outputs": [
        {
          "output_type": "stream",
          "name": "stdout",
          "text": [
            "3\n"
          ]
        }
      ]
    },
    {
      "cell_type": "markdown",
      "source": [
        "17 - Crée une foction qui calcule le produit des 3 derniers éléments de la liste"
      ],
      "metadata": {
        "id": "2mLksZ39ezp9"
      }
    },
    {
      "cell_type": "code",
      "source": [
        "def produit_trois(list):\n",
        "  value = 1\n",
        "  for i in range(3):\n",
        "    value*=list[i]\n",
        "  print(value)\n",
        "produit_trois(liste)"
      ],
      "metadata": {
        "id": "MnlET4rBfF0b",
        "colab": {
          "base_uri": "https://localhost:8080/"
        },
        "outputId": "23e51458-1ed8-43e4-de3f-e2b33cf29626"
      },
      "execution_count": 34,
      "outputs": [
        {
          "output_type": "stream",
          "name": "stdout",
          "text": [
            "0\n"
          ]
        }
      ]
    },
    {
      "cell_type": "markdown",
      "source": [
        "18 - Crée une fonction qui calcule la différence des éléments situés aux positions 4 à 8"
      ],
      "metadata": {
        "id": "4FMdaxoMfGPp"
      }
    },
    {
      "cell_type": "markdown",
      "source": [
        "<b>j'ai pas bien compris cette question</b>\n"
      ],
      "metadata": {
        "id": "xq0bwoyVz3Ti"
      }
    },
    {
      "cell_type": "code",
      "source": [
        ""
      ],
      "metadata": {
        "id": "NPG7lGavfTnu"
      },
      "execution_count": null,
      "outputs": []
    },
    {
      "cell_type": "markdown",
      "source": [
        "19 - Ajoute 3 autres décimaux à ta liste"
      ],
      "metadata": {
        "id": "ydLrQR8nfUBI"
      }
    },
    {
      "cell_type": "code",
      "source": [
        "liste.extend([10,12,11])\n",
        "print(liste)"
      ],
      "metadata": {
        "id": "nwrRijnsfZzK",
        "colab": {
          "base_uri": "https://localhost:8080/"
        },
        "outputId": "cb49671c-ed1c-4649-a758-af01234a06d9"
      },
      "execution_count": 39,
      "outputs": [
        {
          "output_type": "stream",
          "name": "stdout",
          "text": [
            "[0, 1, 2, 3, 4, 5, 6, 7, 8, 9, 10, 12, 11]\n"
          ]
        }
      ]
    },
    {
      "cell_type": "markdown",
      "source": [
        "20 - Trie la liste dans l'ordre croissant"
      ],
      "metadata": {
        "id": "nslXvawVfaFf"
      }
    },
    {
      "cell_type": "code",
      "source": [
        "liste.sort()\n",
        "print(liste)"
      ],
      "metadata": {
        "id": "nccc1C3FffBo",
        "colab": {
          "base_uri": "https://localhost:8080/"
        },
        "outputId": "147e5a99-5dc9-4fd3-ecc9-c19312a04627"
      },
      "execution_count": 40,
      "outputs": [
        {
          "output_type": "stream",
          "name": "stdout",
          "text": [
            "[0, 1, 2, 3, 4, 5, 6, 7, 8, 9, 10, 11, 12]\n"
          ]
        }
      ]
    },
    {
      "cell_type": "markdown",
      "source": [
        "21 - Trie la liste dans l'ordre décroissant"
      ],
      "metadata": {
        "id": "Oo35cE08ffWr"
      }
    },
    {
      "cell_type": "code",
      "source": [
        "liste.sort(reverse=True)\n",
        "print(liste)"
      ],
      "metadata": {
        "id": "YJx2_DbPfjfw",
        "colab": {
          "base_uri": "https://localhost:8080/"
        },
        "outputId": "5081ae4c-dff5-4cb3-a02a-dfd5cbb61949"
      },
      "execution_count": 41,
      "outputs": [
        {
          "output_type": "stream",
          "name": "stdout",
          "text": [
            "[12, 11, 10, 9, 8, 7, 6, 5, 4, 3, 2, 1, 0]\n"
          ]
        }
      ]
    },
    {
      "cell_type": "markdown",
      "source": [
        "22 - Crée une liste des pays suivants : Togo, Mali, Burkina et Congo"
      ],
      "metadata": {
        "id": "l5gwsLWPYrow"
      }
    },
    {
      "cell_type": "code",
      "source": [
        "p_list=['Togo', 'Mali', 'Burkina' , 'Congo']\n",
        "print(p_list)"
      ],
      "metadata": {
        "id": "jqUA7FvrYygW",
        "colab": {
          "base_uri": "https://localhost:8080/"
        },
        "outputId": "d43f7484-9ad3-4d39-c29b-10a82d50c1a1"
      },
      "execution_count": 42,
      "outputs": [
        {
          "output_type": "stream",
          "name": "stdout",
          "text": [
            "['Togo', 'Mali', 'Burkina', 'Congo']\n"
          ]
        }
      ]
    },
    {
      "cell_type": "markdown",
      "source": [
        "23 - Vérifie si le Niger est dans la liste"
      ],
      "metadata": {
        "id": "zq8uxQmoYy2-"
      }
    },
    {
      "cell_type": "code",
      "source": [
        "print('Niger' in p_list)"
      ],
      "metadata": {
        "id": "hr8P7zlsZrZf",
        "colab": {
          "base_uri": "https://localhost:8080/"
        },
        "outputId": "a6dcb5ac-c94b-4221-e849-fdfc03711cad"
      },
      "execution_count": 43,
      "outputs": [
        {
          "output_type": "stream",
          "name": "stdout",
          "text": [
            "False\n"
          ]
        }
      ]
    },
    {
      "cell_type": "markdown",
      "source": [
        "24 - Crée un dictionnaire de recensement homme et femme d'une population"
      ],
      "metadata": {
        "id": "8_X2i5dMZrp5"
      }
    },
    {
      "cell_type": "code",
      "source": [
        "recensement = {'Homme':0,\n",
        "               'Femme':0}"
      ],
      "metadata": {
        "id": "pETwgF1RaPza"
      },
      "execution_count": 53,
      "outputs": []
    },
    {
      "cell_type": "markdown",
      "source": [
        "25 - Ajoute a ce dictionaire une catégrorie non défini pour les informations manquantes"
      ],
      "metadata": {
        "id": "humHcqgLaQPS"
      }
    },
    {
      "cell_type": "code",
      "source": [
        "recensement['undifiend'] = \"desc\"\n",
        "print(recensement)"
      ],
      "metadata": {
        "id": "hZYqSFUfaZO8",
        "colab": {
          "base_uri": "https://localhost:8080/"
        },
        "outputId": "7282fc95-b0a1-48cc-ac37-4d9c55fc241f"
      },
      "execution_count": 54,
      "outputs": [
        {
          "output_type": "stream",
          "name": "stdout",
          "text": [
            "{'Homme': 0, 'Femme': 0, 'undifiend': 'desc'}\n"
          ]
        }
      ]
    },
    {
      "cell_type": "markdown",
      "source": [
        "26 - Utilise une boucle for qui retournera a la fois les clefs et les valeurs"
      ],
      "metadata": {
        "id": "ltjfKMYLaeGT"
      }
    },
    {
      "cell_type": "code",
      "source": [
        "for key,value in recensement.items() :\n",
        "  print (key,value)"
      ],
      "metadata": {
        "id": "xs4CfvBQarLp",
        "colab": {
          "base_uri": "https://localhost:8080/"
        },
        "outputId": "e6bda77e-9535-4105-aafe-57bd3d36d2c1"
      },
      "execution_count": 55,
      "outputs": [
        {
          "output_type": "stream",
          "name": "stdout",
          "text": [
            "Homme 0\n",
            "Femme 0\n",
            "undifiend desc\n"
          ]
        }
      ]
    }
  ]
}