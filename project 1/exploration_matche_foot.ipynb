{
 "cells": [
  {
   "cell_type": "markdown",
   "metadata": {},
   "source": [
    "\n",
    "# Project: Exploration d'un ensemble de donnée sur les matches de Foot\n",
    "\n",
    "## Table of Contents\n",
    "<ul>\n",
    "<li><a href=\"#intro\">Introduction</a></li>\n",
    "<li><a href=\"#wrangling\">Data Wrangling</a></li>\n",
    "<li><a href=\"#eda\">Exploratory Data Analysis</a></li>\n",
    "<li><a href=\"#conclusions\">Conclusions</a></li>\n",
    "</ul>"
   ]
  },
  {
   "cell_type": "markdown",
   "metadata": {},
   "source": [
    "<a id='intro'></a>\n",
    "## Introduction\n",
    "\n",
    " Ce rapport est une analyse d'un ensemble de donnée sur les différents matches de Football de différents payes de l’Europe, les données sont en format SQLITE qu'après exploration des différentes tables et relations j'ai importé deux tables avec les données nécessaire à notre analyse, la première table Matches contient les différents matches toutes League confondu où j'ai remplacé les **foreigne key** avec leur nom, la deuxième table team_attribut contient les suivie des performance sur chaque équipe sur une période temps.<br><br>\n",
    " C'est deux table nous aiderons à répondre aux questions sur la relation entre performance et résultat de matche et aussi sur les trait de jeu sur de chaque pays.<br><br>\n",
    " la premiére table à était importer avec la requete SQL suivante : \n",
    " <br>**_$\\color{blue}{\\text{SELECT}}$ c.name as Pays, l.name as league,m.date as date, t.team_long_name as home, t2.team_long_name as away, m.home_team_goal as home_goal, m.away_team_goal<br>\n",
    "$\\color{blue}{\\text{From}}$ Country c,League l, Match m, Team t, Team t2<br>\n",
    "$\\color{blue}{\\text{Where}}$ c.id = m.country_id AND l.id=m.league_id AND t.team_api_id = m.home_team_api_id and t2.team_api_id=m.away_team_api_id_**<br></br>\n",
    " Le code SQL de la deuxième table est le suivant : \n",
    " <br>**_$\\color{blue}{\\text{SELECT}}$ l.name,t.team_long_name, ta.date, ta.buildUpPlaySpeed, ta.buildUpPlayDribbling, ta.buildUpPlayPassing, ta.buildUpPlayPositioningClass, ta.chanceCreationShooting, ta.defencePressure, ta.defenceAggression\n",
    "<br>$\\color{blue}{\\text{From}}$ Team t, Team_Attributes ta, League l,(SELECT DISTINCT m1.league_id, m1.home_team_api_id from Match m1) m\n",
    "<br>$\\color{blue}{\\text{Where}}$ t.team_api_id = ta.team_api_id AND t.team_api_id=m.home_team_api_id AND m.league_id = l.id\n",
    "<br>$\\color{blue}{\\text{Order by}}$ ta.team_api_id DESC_**\n",
    "<br><br>\n",
    " Nous allons commencer par importer les packages et les deux datasets dans la section qui suit: "
   ]
  },
  {
   "cell_type": "code",
   "execution_count": 1,
   "metadata": {},
   "outputs": [],
   "source": [
    "import pandas as pd\n",
    "import numpy as np\n",
    "import matplotlib.pyplot as plt\n",
    "%matplotlib inline\n",
    "\n",
    "df_m= pd.read_csv('matches.csv')\n",
    "df_at = pd.read_csv('team_attributes.csv')\n"
   ]
  },
  {
   "cell_type": "markdown",
   "metadata": {},
   "source": [
    "<a id='wrangling'></a>\n",
    "## Data Wrangling\n",
    "\n",
    "### Proprieté génèrale"
   ]
  },
  {
   "cell_type": "markdown",
   "metadata": {},
   "source": [
    "Dans cette partie nous allons explorer la Dataframe pour se familiariser avec les données et détecter les erreurs afin de les corriger dans la partie data Cleaning."
   ]
  },
  {
   "cell_type": "code",
   "execution_count": 2,
   "metadata": {
    "scrolled": false
   },
   "outputs": [
    {
     "data": {
      "text/html": [
       "<div>\n",
       "<style scoped>\n",
       "    .dataframe tbody tr th:only-of-type {\n",
       "        vertical-align: middle;\n",
       "    }\n",
       "\n",
       "    .dataframe tbody tr th {\n",
       "        vertical-align: top;\n",
       "    }\n",
       "\n",
       "    .dataframe thead th {\n",
       "        text-align: right;\n",
       "    }\n",
       "</style>\n",
       "<table border=\"1\" class=\"dataframe\">\n",
       "  <thead>\n",
       "    <tr style=\"text-align: right;\">\n",
       "      <th></th>\n",
       "      <th>Pays</th>\n",
       "      <th>league</th>\n",
       "      <th>date</th>\n",
       "      <th>home</th>\n",
       "      <th>away</th>\n",
       "      <th>home_goal</th>\n",
       "      <th>away_team_goal</th>\n",
       "    </tr>\n",
       "  </thead>\n",
       "  <tbody>\n",
       "    <tr>\n",
       "      <th>0</th>\n",
       "      <td>Belgium</td>\n",
       "      <td>Belgium Jupiler League</td>\n",
       "      <td>2008-08-17 00:00:00</td>\n",
       "      <td>KRC Genk</td>\n",
       "      <td>Beerschot AC</td>\n",
       "      <td>1</td>\n",
       "      <td>1</td>\n",
       "    </tr>\n",
       "    <tr>\n",
       "      <th>1</th>\n",
       "      <td>Belgium</td>\n",
       "      <td>Belgium Jupiler League</td>\n",
       "      <td>2008-08-16 00:00:00</td>\n",
       "      <td>SV Zulte-Waregem</td>\n",
       "      <td>Sporting Lokeren</td>\n",
       "      <td>0</td>\n",
       "      <td>0</td>\n",
       "    </tr>\n",
       "    <tr>\n",
       "      <th>2</th>\n",
       "      <td>Belgium</td>\n",
       "      <td>Belgium Jupiler League</td>\n",
       "      <td>2008-08-16 00:00:00</td>\n",
       "      <td>KSV Cercle Brugge</td>\n",
       "      <td>RSC Anderlecht</td>\n",
       "      <td>0</td>\n",
       "      <td>3</td>\n",
       "    </tr>\n",
       "    <tr>\n",
       "      <th>3</th>\n",
       "      <td>Belgium</td>\n",
       "      <td>Belgium Jupiler League</td>\n",
       "      <td>2008-08-17 00:00:00</td>\n",
       "      <td>KAA Gent</td>\n",
       "      <td>RAEC Mons</td>\n",
       "      <td>5</td>\n",
       "      <td>0</td>\n",
       "    </tr>\n",
       "    <tr>\n",
       "      <th>4</th>\n",
       "      <td>Belgium</td>\n",
       "      <td>Belgium Jupiler League</td>\n",
       "      <td>2008-08-16 00:00:00</td>\n",
       "      <td>FCV Dender EH</td>\n",
       "      <td>Standard de Liège</td>\n",
       "      <td>1</td>\n",
       "      <td>3</td>\n",
       "    </tr>\n",
       "  </tbody>\n",
       "</table>\n",
       "</div>"
      ],
      "text/plain": [
       "      Pays                  league                 date               home  \\\n",
       "0  Belgium  Belgium Jupiler League  2008-08-17 00:00:00           KRC Genk   \n",
       "1  Belgium  Belgium Jupiler League  2008-08-16 00:00:00   SV Zulte-Waregem   \n",
       "2  Belgium  Belgium Jupiler League  2008-08-16 00:00:00  KSV Cercle Brugge   \n",
       "3  Belgium  Belgium Jupiler League  2008-08-17 00:00:00           KAA Gent   \n",
       "4  Belgium  Belgium Jupiler League  2008-08-16 00:00:00      FCV Dender EH   \n",
       "\n",
       "                away  home_goal  away_team_goal  \n",
       "0       Beerschot AC          1               1  \n",
       "1   Sporting Lokeren          0               0  \n",
       "2     RSC Anderlecht          0               3  \n",
       "3          RAEC Mons          5               0  \n",
       "4  Standard de Liège          1               3  "
      ]
     },
     "execution_count": 2,
     "metadata": {},
     "output_type": "execute_result"
    }
   ],
   "source": [
    "df_m.head()"
   ]
  },
  {
   "cell_type": "markdown",
   "metadata": {},
   "source": [
    "Comme nous le remarquons le tableau enregistre les matches qui ont eu lieu entre 2008 et 2016, dans notre analyse nous allons voir s'il y a des corrélations entre les attributs et le pourcentage de Win, pour cette raison il faut diviser pour chaque matche les deux équipes dans deux lignes différentes pour avoir le schéma suivant : équipe, résultat, buts marqué, buts encaissé. afin de simplifier l'analyse."
   ]
  },
  {
   "cell_type": "code",
   "execution_count": 3,
   "metadata": {
    "scrolled": false
   },
   "outputs": [
    {
     "name": "stdout",
     "output_type": "stream",
     "text": [
      "<class 'pandas.core.frame.DataFrame'>\n",
      "RangeIndex: 25979 entries, 0 to 25978\n",
      "Data columns (total 7 columns):\n",
      " #   Column          Non-Null Count  Dtype \n",
      "---  ------          --------------  ----- \n",
      " 0   Pays            25979 non-null  object\n",
      " 1   league          25979 non-null  object\n",
      " 2   date            25979 non-null  object\n",
      " 3   home            25979 non-null  object\n",
      " 4   away            25979 non-null  object\n",
      " 5   home_goal       25979 non-null  int64 \n",
      " 6   away_team_goal  25979 non-null  int64 \n",
      "dtypes: int64(2), object(5)\n",
      "memory usage: 1.4+ MB\n"
     ]
    }
   ],
   "source": [
    "df_m.info()"
   ]
  },
  {
   "cell_type": "code",
   "execution_count": 4,
   "metadata": {},
   "outputs": [
    {
     "data": {
      "text/html": [
       "<div>\n",
       "<style scoped>\n",
       "    .dataframe tbody tr th:only-of-type {\n",
       "        vertical-align: middle;\n",
       "    }\n",
       "\n",
       "    .dataframe tbody tr th {\n",
       "        vertical-align: top;\n",
       "    }\n",
       "\n",
       "    .dataframe thead th {\n",
       "        text-align: right;\n",
       "    }\n",
       "</style>\n",
       "<table border=\"1\" class=\"dataframe\">\n",
       "  <thead>\n",
       "    <tr style=\"text-align: right;\">\n",
       "      <th></th>\n",
       "      <th>home_goal</th>\n",
       "      <th>away_team_goal</th>\n",
       "    </tr>\n",
       "  </thead>\n",
       "  <tbody>\n",
       "    <tr>\n",
       "      <th>count</th>\n",
       "      <td>25979.000000</td>\n",
       "      <td>25979.000000</td>\n",
       "    </tr>\n",
       "    <tr>\n",
       "      <th>mean</th>\n",
       "      <td>1.544594</td>\n",
       "      <td>1.160938</td>\n",
       "    </tr>\n",
       "    <tr>\n",
       "      <th>std</th>\n",
       "      <td>1.297158</td>\n",
       "      <td>1.142110</td>\n",
       "    </tr>\n",
       "    <tr>\n",
       "      <th>min</th>\n",
       "      <td>0.000000</td>\n",
       "      <td>0.000000</td>\n",
       "    </tr>\n",
       "    <tr>\n",
       "      <th>25%</th>\n",
       "      <td>1.000000</td>\n",
       "      <td>0.000000</td>\n",
       "    </tr>\n",
       "    <tr>\n",
       "      <th>50%</th>\n",
       "      <td>1.000000</td>\n",
       "      <td>1.000000</td>\n",
       "    </tr>\n",
       "    <tr>\n",
       "      <th>75%</th>\n",
       "      <td>2.000000</td>\n",
       "      <td>2.000000</td>\n",
       "    </tr>\n",
       "    <tr>\n",
       "      <th>max</th>\n",
       "      <td>10.000000</td>\n",
       "      <td>9.000000</td>\n",
       "    </tr>\n",
       "  </tbody>\n",
       "</table>\n",
       "</div>"
      ],
      "text/plain": [
       "          home_goal  away_team_goal\n",
       "count  25979.000000    25979.000000\n",
       "mean       1.544594        1.160938\n",
       "std        1.297158        1.142110\n",
       "min        0.000000        0.000000\n",
       "25%        1.000000        0.000000\n",
       "50%        1.000000        1.000000\n",
       "75%        2.000000        2.000000\n",
       "max       10.000000        9.000000"
      ]
     },
     "execution_count": 4,
     "metadata": {},
     "output_type": "execute_result"
    }
   ],
   "source": [
    "df_m.describe()"
   ]
  },
  {
   "cell_type": "markdown",
   "metadata": {},
   "source": [
    "La fonction **info()** de pandas nous montre qu'il y a pas de donnée manquantes dans le set de donnée et les types sont correctes sauf la date qui doit être changer en datetime."
   ]
  },
  {
   "cell_type": "code",
   "execution_count": 5,
   "metadata": {
    "scrolled": true
   },
   "outputs": [
    {
     "data": {
      "text/html": [
       "<div>\n",
       "<style scoped>\n",
       "    .dataframe tbody tr th:only-of-type {\n",
       "        vertical-align: middle;\n",
       "    }\n",
       "\n",
       "    .dataframe tbody tr th {\n",
       "        vertical-align: top;\n",
       "    }\n",
       "\n",
       "    .dataframe thead th {\n",
       "        text-align: right;\n",
       "    }\n",
       "</style>\n",
       "<table border=\"1\" class=\"dataframe\">\n",
       "  <thead>\n",
       "    <tr style=\"text-align: right;\">\n",
       "      <th></th>\n",
       "      <th>name</th>\n",
       "      <th>team_long_name</th>\n",
       "      <th>date</th>\n",
       "      <th>buildUpPlaySpeed</th>\n",
       "      <th>buildUpPlayDribbling</th>\n",
       "      <th>buildUpPlayPassing</th>\n",
       "      <th>buildUpPlayPositioningClass</th>\n",
       "      <th>chanceCreationShooting</th>\n",
       "      <th>defencePressure</th>\n",
       "      <th>defenceAggression</th>\n",
       "    </tr>\n",
       "  </thead>\n",
       "  <tbody>\n",
       "    <tr>\n",
       "      <th>0</th>\n",
       "      <td>Belgium Jupiler League</td>\n",
       "      <td>Royal Excel Mouscron</td>\n",
       "      <td>2015-09-10 00:00:00</td>\n",
       "      <td>50</td>\n",
       "      <td>50.0</td>\n",
       "      <td>50</td>\n",
       "      <td>Organised</td>\n",
       "      <td>50</td>\n",
       "      <td>45</td>\n",
       "      <td>45</td>\n",
       "    </tr>\n",
       "    <tr>\n",
       "      <th>1</th>\n",
       "      <td>Italy Serie A</td>\n",
       "      <td>Carpi</td>\n",
       "      <td>2014-09-19 00:00:00</td>\n",
       "      <td>32</td>\n",
       "      <td>46.0</td>\n",
       "      <td>31</td>\n",
       "      <td>Organised</td>\n",
       "      <td>54</td>\n",
       "      <td>46</td>\n",
       "      <td>44</td>\n",
       "    </tr>\n",
       "    <tr>\n",
       "      <th>2</th>\n",
       "      <td>Italy Serie A</td>\n",
       "      <td>Carpi</td>\n",
       "      <td>2015-09-10 00:00:00</td>\n",
       "      <td>80</td>\n",
       "      <td>45.0</td>\n",
       "      <td>65</td>\n",
       "      <td>Organised</td>\n",
       "      <td>50</td>\n",
       "      <td>25</td>\n",
       "      <td>55</td>\n",
       "    </tr>\n",
       "    <tr>\n",
       "      <th>3</th>\n",
       "      <td>Portugal Liga ZON Sagres</td>\n",
       "      <td>FC Arouca</td>\n",
       "      <td>2014-09-19 00:00:00</td>\n",
       "      <td>69</td>\n",
       "      <td>66.0</td>\n",
       "      <td>39</td>\n",
       "      <td>Organised</td>\n",
       "      <td>46</td>\n",
       "      <td>35</td>\n",
       "      <td>37</td>\n",
       "    </tr>\n",
       "    <tr>\n",
       "      <th>4</th>\n",
       "      <td>Portugal Liga ZON Sagres</td>\n",
       "      <td>FC Arouca</td>\n",
       "      <td>2015-09-10 00:00:00</td>\n",
       "      <td>65</td>\n",
       "      <td>66.0</td>\n",
       "      <td>39</td>\n",
       "      <td>Organised</td>\n",
       "      <td>46</td>\n",
       "      <td>37</td>\n",
       "      <td>39</td>\n",
       "    </tr>\n",
       "  </tbody>\n",
       "</table>\n",
       "</div>"
      ],
      "text/plain": [
       "                       name        team_long_name                 date  \\\n",
       "0    Belgium Jupiler League  Royal Excel Mouscron  2015-09-10 00:00:00   \n",
       "1             Italy Serie A                 Carpi  2014-09-19 00:00:00   \n",
       "2             Italy Serie A                 Carpi  2015-09-10 00:00:00   \n",
       "3  Portugal Liga ZON Sagres             FC Arouca  2014-09-19 00:00:00   \n",
       "4  Portugal Liga ZON Sagres             FC Arouca  2015-09-10 00:00:00   \n",
       "\n",
       "   buildUpPlaySpeed  buildUpPlayDribbling  buildUpPlayPassing  \\\n",
       "0                50                  50.0                  50   \n",
       "1                32                  46.0                  31   \n",
       "2                80                  45.0                  65   \n",
       "3                69                  66.0                  39   \n",
       "4                65                  66.0                  39   \n",
       "\n",
       "  buildUpPlayPositioningClass  chanceCreationShooting  defencePressure  \\\n",
       "0                   Organised                      50               45   \n",
       "1                   Organised                      54               46   \n",
       "2                   Organised                      50               25   \n",
       "3                   Organised                      46               35   \n",
       "4                   Organised                      46               37   \n",
       "\n",
       "   defenceAggression  \n",
       "0                 45  \n",
       "1                 44  \n",
       "2                 55  \n",
       "3                 37  \n",
       "4                 39  "
      ]
     },
     "execution_count": 5,
     "metadata": {},
     "output_type": "execute_result"
    }
   ],
   "source": [
    "df_at.head()"
   ]
  },
  {
   "cell_type": "markdown",
   "metadata": {},
   "source": [
    "Le tableau contient les attribut de chaque équipe enregistrer par année, pour la prochaine étape nous allons détecter s'il y a des valeurs manquantes, des valeurs fausses ou des types de données non conforme."
   ]
  },
  {
   "cell_type": "code",
   "execution_count": 6,
   "metadata": {},
   "outputs": [
    {
     "data": {
      "text/html": [
       "<div>\n",
       "<style scoped>\n",
       "    .dataframe tbody tr th:only-of-type {\n",
       "        vertical-align: middle;\n",
       "    }\n",
       "\n",
       "    .dataframe tbody tr th {\n",
       "        vertical-align: top;\n",
       "    }\n",
       "\n",
       "    .dataframe thead th {\n",
       "        text-align: right;\n",
       "    }\n",
       "</style>\n",
       "<table border=\"1\" class=\"dataframe\">\n",
       "  <thead>\n",
       "    <tr style=\"text-align: right;\">\n",
       "      <th></th>\n",
       "      <th>buildUpPlaySpeed</th>\n",
       "      <th>buildUpPlayDribbling</th>\n",
       "      <th>buildUpPlayPassing</th>\n",
       "      <th>chanceCreationShooting</th>\n",
       "      <th>defencePressure</th>\n",
       "      <th>defenceAggression</th>\n",
       "    </tr>\n",
       "  </thead>\n",
       "  <tbody>\n",
       "    <tr>\n",
       "      <th>count</th>\n",
       "      <td>1458.000000</td>\n",
       "      <td>489.000000</td>\n",
       "      <td>1458.000000</td>\n",
       "      <td>1458.000000</td>\n",
       "      <td>1458.000000</td>\n",
       "      <td>1458.000000</td>\n",
       "    </tr>\n",
       "    <tr>\n",
       "      <th>mean</th>\n",
       "      <td>52.462277</td>\n",
       "      <td>48.607362</td>\n",
       "      <td>48.490398</td>\n",
       "      <td>53.969136</td>\n",
       "      <td>46.017147</td>\n",
       "      <td>49.251029</td>\n",
       "    </tr>\n",
       "    <tr>\n",
       "      <th>std</th>\n",
       "      <td>11.545869</td>\n",
       "      <td>9.678290</td>\n",
       "      <td>10.896101</td>\n",
       "      <td>10.327566</td>\n",
       "      <td>10.227225</td>\n",
       "      <td>9.738028</td>\n",
       "    </tr>\n",
       "    <tr>\n",
       "      <th>min</th>\n",
       "      <td>20.000000</td>\n",
       "      <td>24.000000</td>\n",
       "      <td>20.000000</td>\n",
       "      <td>22.000000</td>\n",
       "      <td>23.000000</td>\n",
       "      <td>24.000000</td>\n",
       "    </tr>\n",
       "    <tr>\n",
       "      <th>25%</th>\n",
       "      <td>45.000000</td>\n",
       "      <td>42.000000</td>\n",
       "      <td>40.000000</td>\n",
       "      <td>48.000000</td>\n",
       "      <td>39.000000</td>\n",
       "      <td>44.000000</td>\n",
       "    </tr>\n",
       "    <tr>\n",
       "      <th>50%</th>\n",
       "      <td>52.000000</td>\n",
       "      <td>49.000000</td>\n",
       "      <td>50.000000</td>\n",
       "      <td>53.000000</td>\n",
       "      <td>45.000000</td>\n",
       "      <td>48.000000</td>\n",
       "    </tr>\n",
       "    <tr>\n",
       "      <th>75%</th>\n",
       "      <td>62.000000</td>\n",
       "      <td>55.000000</td>\n",
       "      <td>55.000000</td>\n",
       "      <td>61.000000</td>\n",
       "      <td>51.000000</td>\n",
       "      <td>55.000000</td>\n",
       "    </tr>\n",
       "    <tr>\n",
       "      <th>max</th>\n",
       "      <td>80.000000</td>\n",
       "      <td>77.000000</td>\n",
       "      <td>80.000000</td>\n",
       "      <td>80.000000</td>\n",
       "      <td>72.000000</td>\n",
       "      <td>72.000000</td>\n",
       "    </tr>\n",
       "  </tbody>\n",
       "</table>\n",
       "</div>"
      ],
      "text/plain": [
       "       buildUpPlaySpeed  buildUpPlayDribbling  buildUpPlayPassing  \\\n",
       "count       1458.000000            489.000000         1458.000000   \n",
       "mean          52.462277             48.607362           48.490398   \n",
       "std           11.545869              9.678290           10.896101   \n",
       "min           20.000000             24.000000           20.000000   \n",
       "25%           45.000000             42.000000           40.000000   \n",
       "50%           52.000000             49.000000           50.000000   \n",
       "75%           62.000000             55.000000           55.000000   \n",
       "max           80.000000             77.000000           80.000000   \n",
       "\n",
       "       chanceCreationShooting  defencePressure  defenceAggression  \n",
       "count             1458.000000      1458.000000        1458.000000  \n",
       "mean                53.969136        46.017147          49.251029  \n",
       "std                 10.327566        10.227225           9.738028  \n",
       "min                 22.000000        23.000000          24.000000  \n",
       "25%                 48.000000        39.000000          44.000000  \n",
       "50%                 53.000000        45.000000          48.000000  \n",
       "75%                 61.000000        51.000000          55.000000  \n",
       "max                 80.000000        72.000000          72.000000  "
      ]
     },
     "execution_count": 6,
     "metadata": {},
     "output_type": "execute_result"
    }
   ],
   "source": [
    "df_at.describe()"
   ]
  },
  {
   "cell_type": "code",
   "execution_count": 7,
   "metadata": {},
   "outputs": [
    {
     "name": "stdout",
     "output_type": "stream",
     "text": [
      "<class 'pandas.core.frame.DataFrame'>\n",
      "RangeIndex: 1458 entries, 0 to 1457\n",
      "Data columns (total 10 columns):\n",
      " #   Column                       Non-Null Count  Dtype  \n",
      "---  ------                       --------------  -----  \n",
      " 0   name                         1458 non-null   object \n",
      " 1   team_long_name               1458 non-null   object \n",
      " 2   date                         1458 non-null   object \n",
      " 3   buildUpPlaySpeed             1458 non-null   int64  \n",
      " 4   buildUpPlayDribbling         489 non-null    float64\n",
      " 5   buildUpPlayPassing           1458 non-null   int64  \n",
      " 6   buildUpPlayPositioningClass  1458 non-null   object \n",
      " 7   chanceCreationShooting       1458 non-null   int64  \n",
      " 8   defencePressure              1458 non-null   int64  \n",
      " 9   defenceAggression            1458 non-null   int64  \n",
      "dtypes: float64(1), int64(5), object(4)\n",
      "memory usage: 114.0+ KB\n"
     ]
    }
   ],
   "source": [
    "df_at.info()"
   ]
  },
  {
   "cell_type": "markdown",
   "metadata": {},
   "source": [
    "D'après les résultats des fonction de pandas nous remarquons premièrement que la colonne buildUpPlayDribling contient beaucoup de valeurs manquantes, due à son importance dans notre analyse nous allons la conserver et faire l'analyse sur un échantillon réduit mais qui peut nous aider à avoir une idée sur l'impact de cet attributs sur le winrate de l'équipe. <br>\n",
    "Concernant les types on doit changer toutes les colonnes contenant des chiffres en même type et de changer le type de date en **dateTime**.\n"
   ]
  },
  {
   "cell_type": "markdown",
   "metadata": {},
   "source": [
    "### Data Cleaning "
   ]
  },
  {
   "cell_type": "markdown",
   "metadata": {
    "collapsed": true
   },
   "source": [
    "Nous allons commencer par commencer par la première table afin de restructurer les colonnes et faciliter notre analyse.\n",
    "1. la première étape est de changer les types de données\n",
    "2. la deuxième étape est de créer un data set sur les matches de chaque équipe avec les résultats des matches, les buts marqués et encaissés afin de simplifié le calcul des Winrates.\n"
   ]
  },
  {
   "cell_type": "code",
   "execution_count": 8,
   "metadata": {},
   "outputs": [
    {
     "data": {
      "text/html": [
       "<div>\n",
       "<style scoped>\n",
       "    .dataframe tbody tr th:only-of-type {\n",
       "        vertical-align: middle;\n",
       "    }\n",
       "\n",
       "    .dataframe tbody tr th {\n",
       "        vertical-align: top;\n",
       "    }\n",
       "\n",
       "    .dataframe thead th {\n",
       "        text-align: right;\n",
       "    }\n",
       "</style>\n",
       "<table border=\"1\" class=\"dataframe\">\n",
       "  <thead>\n",
       "    <tr style=\"text-align: right;\">\n",
       "      <th></th>\n",
       "      <th>Pays</th>\n",
       "      <th>league</th>\n",
       "      <th>date</th>\n",
       "      <th>team</th>\n",
       "      <th>scored</th>\n",
       "      <th>conceded</th>\n",
       "      <th>result</th>\n",
       "    </tr>\n",
       "  </thead>\n",
       "  <tbody>\n",
       "    <tr>\n",
       "      <th>0</th>\n",
       "      <td>Belgium</td>\n",
       "      <td>Belgium Jupiler League</td>\n",
       "      <td>2008-08-17</td>\n",
       "      <td>KRC Genk</td>\n",
       "      <td>1</td>\n",
       "      <td>1</td>\n",
       "      <td>egality</td>\n",
       "    </tr>\n",
       "    <tr>\n",
       "      <th>1</th>\n",
       "      <td>Belgium</td>\n",
       "      <td>Belgium Jupiler League</td>\n",
       "      <td>2008-08-16</td>\n",
       "      <td>SV Zulte-Waregem</td>\n",
       "      <td>0</td>\n",
       "      <td>0</td>\n",
       "      <td>egality</td>\n",
       "    </tr>\n",
       "    <tr>\n",
       "      <th>2</th>\n",
       "      <td>Belgium</td>\n",
       "      <td>Belgium Jupiler League</td>\n",
       "      <td>2008-08-16</td>\n",
       "      <td>KSV Cercle Brugge</td>\n",
       "      <td>0</td>\n",
       "      <td>3</td>\n",
       "      <td>lose</td>\n",
       "    </tr>\n",
       "    <tr>\n",
       "      <th>3</th>\n",
       "      <td>Belgium</td>\n",
       "      <td>Belgium Jupiler League</td>\n",
       "      <td>2008-08-17</td>\n",
       "      <td>KAA Gent</td>\n",
       "      <td>5</td>\n",
       "      <td>0</td>\n",
       "      <td>win</td>\n",
       "    </tr>\n",
       "    <tr>\n",
       "      <th>4</th>\n",
       "      <td>Belgium</td>\n",
       "      <td>Belgium Jupiler League</td>\n",
       "      <td>2008-08-16</td>\n",
       "      <td>FCV Dender EH</td>\n",
       "      <td>1</td>\n",
       "      <td>3</td>\n",
       "      <td>lose</td>\n",
       "    </tr>\n",
       "  </tbody>\n",
       "</table>\n",
       "</div>"
      ],
      "text/plain": [
       "      Pays                  league       date               team  scored  \\\n",
       "0  Belgium  Belgium Jupiler League 2008-08-17           KRC Genk       1   \n",
       "1  Belgium  Belgium Jupiler League 2008-08-16   SV Zulte-Waregem       0   \n",
       "2  Belgium  Belgium Jupiler League 2008-08-16  KSV Cercle Brugge       0   \n",
       "3  Belgium  Belgium Jupiler League 2008-08-17           KAA Gent       5   \n",
       "4  Belgium  Belgium Jupiler League 2008-08-16      FCV Dender EH       1   \n",
       "\n",
       "   conceded   result  \n",
       "0         1  egality  \n",
       "1         0  egality  \n",
       "2         3     lose  \n",
       "3         0      win  \n",
       "4         3     lose  "
      ]
     },
     "execution_count": 8,
     "metadata": {},
     "output_type": "execute_result"
    }
   ],
   "source": [
    "df_m1 = df_m[['Pays','league','date','home','home_goal','away_team_goal']]\n",
    "#renomer les colonnes\n",
    "df_m1=df_m1.rename(columns={'home':'team','home_goal':'scored','away_team_goal':'conceded'})\n",
    "#changer le type en datetime\n",
    "df_m1['date']=pd.to_datetime(df_m1['date'])\n",
    "#creer une colonne résultat du matche\n",
    "selection = [(df_m1['scored']>df_m1['conceded']),(df_m1['scored']<df_m1['conceded']),(df_m1['scored']==df_m1['conceded'])]\n",
    "rslt=['win','lose','egality']\n",
    "df_m1['result']= np.select(selection,rslt)\n",
    "# le resultat\n",
    "df_m1.head()"
   ]
  },
  {
   "cell_type": "code",
   "execution_count": 9,
   "metadata": {},
   "outputs": [
    {
     "data": {
      "text/html": [
       "<div>\n",
       "<style scoped>\n",
       "    .dataframe tbody tr th:only-of-type {\n",
       "        vertical-align: middle;\n",
       "    }\n",
       "\n",
       "    .dataframe tbody tr th {\n",
       "        vertical-align: top;\n",
       "    }\n",
       "\n",
       "    .dataframe thead th {\n",
       "        text-align: right;\n",
       "    }\n",
       "</style>\n",
       "<table border=\"1\" class=\"dataframe\">\n",
       "  <thead>\n",
       "    <tr style=\"text-align: right;\">\n",
       "      <th></th>\n",
       "      <th>Pays</th>\n",
       "      <th>league</th>\n",
       "      <th>date</th>\n",
       "      <th>team</th>\n",
       "      <th>scored</th>\n",
       "      <th>conceded</th>\n",
       "      <th>result</th>\n",
       "    </tr>\n",
       "  </thead>\n",
       "  <tbody>\n",
       "    <tr>\n",
       "      <th>0</th>\n",
       "      <td>Belgium</td>\n",
       "      <td>Belgium Jupiler League</td>\n",
       "      <td>2008-08-17</td>\n",
       "      <td>Beerschot AC</td>\n",
       "      <td>1</td>\n",
       "      <td>1</td>\n",
       "      <td>egality</td>\n",
       "    </tr>\n",
       "    <tr>\n",
       "      <th>1</th>\n",
       "      <td>Belgium</td>\n",
       "      <td>Belgium Jupiler League</td>\n",
       "      <td>2008-08-16</td>\n",
       "      <td>Sporting Lokeren</td>\n",
       "      <td>0</td>\n",
       "      <td>0</td>\n",
       "      <td>egality</td>\n",
       "    </tr>\n",
       "    <tr>\n",
       "      <th>2</th>\n",
       "      <td>Belgium</td>\n",
       "      <td>Belgium Jupiler League</td>\n",
       "      <td>2008-08-16</td>\n",
       "      <td>RSC Anderlecht</td>\n",
       "      <td>3</td>\n",
       "      <td>0</td>\n",
       "      <td>win</td>\n",
       "    </tr>\n",
       "    <tr>\n",
       "      <th>3</th>\n",
       "      <td>Belgium</td>\n",
       "      <td>Belgium Jupiler League</td>\n",
       "      <td>2008-08-17</td>\n",
       "      <td>RAEC Mons</td>\n",
       "      <td>0</td>\n",
       "      <td>5</td>\n",
       "      <td>lose</td>\n",
       "    </tr>\n",
       "    <tr>\n",
       "      <th>4</th>\n",
       "      <td>Belgium</td>\n",
       "      <td>Belgium Jupiler League</td>\n",
       "      <td>2008-08-16</td>\n",
       "      <td>Standard de Liège</td>\n",
       "      <td>3</td>\n",
       "      <td>1</td>\n",
       "      <td>win</td>\n",
       "    </tr>\n",
       "  </tbody>\n",
       "</table>\n",
       "</div>"
      ],
      "text/plain": [
       "      Pays                  league       date               team  scored  \\\n",
       "0  Belgium  Belgium Jupiler League 2008-08-17       Beerschot AC       1   \n",
       "1  Belgium  Belgium Jupiler League 2008-08-16   Sporting Lokeren       0   \n",
       "2  Belgium  Belgium Jupiler League 2008-08-16     RSC Anderlecht       3   \n",
       "3  Belgium  Belgium Jupiler League 2008-08-17          RAEC Mons       0   \n",
       "4  Belgium  Belgium Jupiler League 2008-08-16  Standard de Liège       3   \n",
       "\n",
       "   conceded   result  \n",
       "0         1  egality  \n",
       "1         0  egality  \n",
       "2         0      win  \n",
       "3         5     lose  \n",
       "4         1      win  "
      ]
     },
     "execution_count": 9,
     "metadata": {},
     "output_type": "execute_result"
    }
   ],
   "source": [
    "df_m2 = df_m[['Pays','league','date','away','away_team_goal','home_goal']]\n",
    "#renomer les colonnes\n",
    "df_m2=df_m2.rename(columns={'away':'team','away_team_goal':'scored','home_goal':'conceded'})\n",
    "#changer le type en datetime\n",
    "df_m2['date']=pd.to_datetime(df_m2['date'])\n",
    "#creer une colonne résultat du matche\n",
    "selection = [(df_m2['scored']>df_m2['conceded']),(df_m2['scored']<df_m2['conceded']),(df_m2['scored']==df_m2['conceded'])]\n",
    "rslt=['win','lose','egality']\n",
    "df_m2['result']= np.select(selection,rslt)\n",
    "# le resultat\n",
    "df_m2.head()"
   ]
  },
  {
   "cell_type": "markdown",
   "metadata": {},
   "source": [
    "Nous allons combiner les deux datasets en une seule table"
   ]
  },
  {
   "cell_type": "code",
   "execution_count": 10,
   "metadata": {
    "scrolled": true
   },
   "outputs": [
    {
     "name": "stdout",
     "output_type": "stream",
     "text": [
      "<class 'pandas.core.frame.DataFrame'>\n",
      "Int64Index: 51958 entries, 0 to 25978\n",
      "Data columns (total 7 columns):\n",
      " #   Column    Non-Null Count  Dtype         \n",
      "---  ------    --------------  -----         \n",
      " 0   Pays      51958 non-null  object        \n",
      " 1   league    51958 non-null  object        \n",
      " 2   date      51958 non-null  datetime64[ns]\n",
      " 3   team      51958 non-null  object        \n",
      " 4   scored    51958 non-null  int64         \n",
      " 5   conceded  51958 non-null  int64         \n",
      " 6   result    51958 non-null  object        \n",
      "dtypes: datetime64[ns](1), int64(2), object(4)\n",
      "memory usage: 3.2+ MB\n"
     ]
    }
   ],
   "source": [
    "df_m = pd.concat([df_m1,df_m2])\n",
    "df_m.info()"
   ]
  },
  {
   "cell_type": "code",
   "execution_count": 11,
   "metadata": {},
   "outputs": [
    {
     "name": "stdout",
     "output_type": "stream",
     "text": [
      "<class 'pandas.core.frame.DataFrame'>\n",
      "RangeIndex: 1458 entries, 0 to 1457\n",
      "Data columns (total 10 columns):\n",
      " #   Column                       Non-Null Count  Dtype  \n",
      "---  ------                       --------------  -----  \n",
      " 0   name                         1458 non-null   object \n",
      " 1   team_long_name               1458 non-null   object \n",
      " 2   date                         1458 non-null   object \n",
      " 3   buildUpPlaySpeed             1458 non-null   int64  \n",
      " 4   buildUpPlayDribbling         489 non-null    float64\n",
      " 5   buildUpPlayPassing           1458 non-null   int64  \n",
      " 6   buildUpPlayPositioningClass  1458 non-null   object \n",
      " 7   chanceCreationShooting       1458 non-null   int64  \n",
      " 8   defencePressure              1458 non-null   int64  \n",
      " 9   defenceAggression            1458 non-null   int64  \n",
      "dtypes: float64(1), int64(5), object(4)\n",
      "memory usage: 114.0+ KB\n"
     ]
    }
   ],
   "source": [
    "df_at.info()"
   ]
  },
  {
   "cell_type": "markdown",
   "metadata": {},
   "source": [
    "Dans cette partie nous allons nettoyer la deuxième table sur les attributs de chaque équipe.\n",
    "1. changement du type de la colonne date en datetime\n",
    "2. changement du type de _buildUpPlayDribbling_ en int comme les autres colonnes mais in a des valeur null dans la colonne il est nécessaire de sélectionné que les variable non null, il est plus facile de le faire durant l'analyse\n"
   ]
  },
  {
   "cell_type": "code",
   "execution_count": 12,
   "metadata": {},
   "outputs": [],
   "source": [
    "df_at['date']=pd.to_datetime(df_at['date'])"
   ]
  },
  {
   "cell_type": "markdown",
   "metadata": {},
   "source": [
    "Maintenant que les données dont néttoyer nous pouvant commencer l'exploration des données et répondre au questions"
   ]
  },
  {
   "cell_type": "markdown",
   "metadata": {},
   "source": [
    "<a id='eda'></a>\n",
    "## Analyse des données exloratoire\n",
    "\n",
    "### Question 1 (Que sont les attributs fort de chaque league de foot)"
   ]
  },
  {
   "cell_type": "markdown",
   "metadata": {
    "collapsed": true
   },
   "source": [
    "Nous allons grouper les données par leaque et regarder la moyenne de chaue attribus\n"
   ]
  },
  {
   "cell_type": "code",
   "execution_count": 13,
   "metadata": {},
   "outputs": [
    {
     "data": {
      "text/plain": [
       "name\n",
       "Belgium Jupiler League      53.391753\n",
       "England Premier League      56.210784\n",
       "France Ligue 1              53.214660\n",
       "Germany 1. Bundesliga       56.419162\n",
       "Italy Serie A               54.634286\n",
       "Netherlands Eredivisie      45.962963\n",
       "Poland Ekstraklasa          50.083333\n",
       "Portugal Liga ZON Sagres    48.281250\n",
       "Scotland Premier League     56.533333\n",
       "Spain LIGA BBVA             47.368984\n",
       "Switzerland Super League    51.483871\n",
       "Name: buildUpPlaySpeed, dtype: float64"
      ]
     },
     "execution_count": 13,
     "metadata": {},
     "output_type": "execute_result"
    }
   ],
   "source": [
    "df_at.groupby(['name']).mean()['buildUpPlaySpeed']"
   ]
  },
  {
   "cell_type": "code",
   "execution_count": 14,
   "metadata": {},
   "outputs": [
    {
     "data": {
      "image/png": "[encoded data removed]",
      "text/plain": [
       "<Figure size 1008x576 with 1 Axes>"
      ]
     },
     "metadata": {
      "needs_background": "dark"
     },
     "output_type": "display_data"
    }
   ],
   "source": [
    "df_at.groupby(['name']).mean().plot(kind='bar',figsize=(14,8))\n",
    "plt.title('attribut moyen par league',color='tomato' ,fontsize = 17,fontweight ='bold')\n",
    "plt.xlabel('League', fontweight ='bold', fontsize = 17,color='tomato')\n",
    "plt.ylabel('scale', fontweight ='bold', fontsize = 17,color='tomato')\n",
    "plt.xticks(color='tomato' ,fontsize = 17);\n",
    "plt.yticks(color='tomato' ,fontsize = 17);\n",
    "plt.legend(loc='lower left');"
   ]
  },
  {
   "cell_type": "markdown",
   "metadata": {},
   "source": [
    "Comme remarquer au niveau du BARPLOT chaque League se caractérise par des attributs fort et moins fort:\n",
    "- Belgique : son point fort est l'augmentation de la vitesse de jeu et deuxième l'agressivité en défense\n",
    "- England : se caractérise par l'augmentation de la vitesse de jeu et création du jeu par les passe\n",
    "- France : a trois caractéristique proche l'augmentation de la vitesse de jeu, dribling et la création de chance de tir\n",
    "- Allemagne : ses points forts sont vitesse et création de chance de tir \n",
    "- Italy : ses points forts sont vitesse et création de chance de tir \n",
    "- Pays-Bas : son point fort est la création de chance de tir \n",
    "- Poland : son point fort est la création de chance de tir \n",
    "- Potugal : ses points forts sont le dribbling et la création de chance de tir \n",
    "- Écosse : ses points forts sont vitesse, les passes et le tirs au but\n",
    "- Espagne : son points fort est la création des chances de tir \n",
    "- Suisse : ses points forts sont le tir et le dribbling\n"
   ]
  },
  {
   "cell_type": "markdown",
   "metadata": {},
   "source": [
    "### Question 2  (pour chaque league quelle sont les équipes qui ont le plus de winrate sur la période d'analyse)"
   ]
  },
  {
   "cell_type": "markdown",
   "metadata": {},
   "source": [
    "Nous allons dans cette partie grouper la dataframe par league et par equipe afin de pouvoir calculer le le winrate e chaque équipe."
   ]
  },
  {
   "cell_type": "code",
   "execution_count": 15,
   "metadata": {},
   "outputs": [
    {
     "name": "stdout",
     "output_type": "stream",
     "text": [
      "<class 'pandas.core.frame.DataFrame'>\n",
      "Int64Index: 51958 entries, 0 to 25978\n",
      "Data columns (total 7 columns):\n",
      " #   Column    Non-Null Count  Dtype         \n",
      "---  ------    --------------  -----         \n",
      " 0   Pays      51958 non-null  object        \n",
      " 1   league    51958 non-null  object        \n",
      " 2   date      51958 non-null  datetime64[ns]\n",
      " 3   team      51958 non-null  object        \n",
      " 4   scored    51958 non-null  int64         \n",
      " 5   conceded  51958 non-null  int64         \n",
      " 6   result    51958 non-null  object        \n",
      "dtypes: datetime64[ns](1), int64(2), object(4)\n",
      "memory usage: 3.2+ MB\n"
     ]
    }
   ],
   "source": [
    "df_m.info()"
   ]
  },
  {
   "cell_type": "code",
   "execution_count": 16,
   "metadata": {},
   "outputs": [],
   "source": [
    "df_m3=df_m.query('result==\"win\"').groupby(['league','team'])['result'].count()/df_m.groupby(['league','team'])['result'].count()"
   ]
  },
  {
   "cell_type": "code",
   "execution_count": 17,
   "metadata": {},
   "outputs": [
    {
     "data": {
      "text/html": [
       "<div>\n",
       "<style scoped>\n",
       "    .dataframe tbody tr th:only-of-type {\n",
       "        vertical-align: middle;\n",
       "    }\n",
       "\n",
       "    .dataframe tbody tr th {\n",
       "        vertical-align: top;\n",
       "    }\n",
       "\n",
       "    .dataframe thead th {\n",
       "        text-align: right;\n",
       "    }\n",
       "</style>\n",
       "<table border=\"1\" class=\"dataframe\">\n",
       "  <thead>\n",
       "    <tr style=\"text-align: right;\">\n",
       "      <th></th>\n",
       "      <th></th>\n",
       "      <th>winrate</th>\n",
       "    </tr>\n",
       "    <tr>\n",
       "      <th>league</th>\n",
       "      <th>team</th>\n",
       "      <th></th>\n",
       "    </tr>\n",
       "  </thead>\n",
       "  <tbody>\n",
       "    <tr>\n",
       "      <th rowspan=\"5\" valign=\"top\">Belgium Jupiler League</th>\n",
       "      <th>Beerschot AC</th>\n",
       "      <td>0.263158</td>\n",
       "    </tr>\n",
       "    <tr>\n",
       "      <th>Club Brugge KV</th>\n",
       "      <td>0.580189</td>\n",
       "    </tr>\n",
       "    <tr>\n",
       "      <th>FCV Dender EH</th>\n",
       "      <td>0.264706</td>\n",
       "    </tr>\n",
       "    <tr>\n",
       "      <th>KAA Gent</th>\n",
       "      <td>0.500000</td>\n",
       "    </tr>\n",
       "    <tr>\n",
       "      <th>KAS Eupen</th>\n",
       "      <td>0.166667</td>\n",
       "    </tr>\n",
       "    <tr>\n",
       "      <th>...</th>\n",
       "      <th>...</th>\n",
       "      <td>...</td>\n",
       "    </tr>\n",
       "    <tr>\n",
       "      <th rowspan=\"5\" valign=\"top\">Switzerland Super League</th>\n",
       "      <th>FC Zürich</th>\n",
       "      <td>0.419580</td>\n",
       "    </tr>\n",
       "    <tr>\n",
       "      <th>Grasshopper Club Zürich</th>\n",
       "      <td>0.402098</td>\n",
       "    </tr>\n",
       "    <tr>\n",
       "      <th>Lugano</th>\n",
       "      <td>0.250000</td>\n",
       "    </tr>\n",
       "    <tr>\n",
       "      <th>Neuchâtel Xamax</th>\n",
       "      <td>0.285714</td>\n",
       "    </tr>\n",
       "    <tr>\n",
       "      <th>Servette FC</th>\n",
       "      <td>0.285714</td>\n",
       "    </tr>\n",
       "  </tbody>\n",
       "</table>\n",
       "<p>296 rows × 1 columns</p>\n",
       "</div>"
      ],
      "text/plain": [
       "                                                   winrate\n",
       "league                   team                             \n",
       "Belgium Jupiler League   Beerschot AC             0.263158\n",
       "                         Club Brugge KV           0.580189\n",
       "                         FCV Dender EH            0.264706\n",
       "                         KAA Gent                 0.500000\n",
       "                         KAS Eupen                0.166667\n",
       "...                                                    ...\n",
       "Switzerland Super League FC Zürich                0.419580\n",
       "                         Grasshopper Club Zürich  0.402098\n",
       "                         Lugano                   0.250000\n",
       "                         Neuchâtel Xamax          0.285714\n",
       "                         Servette FC              0.285714\n",
       "\n",
       "[296 rows x 1 columns]"
      ]
     },
     "execution_count": 17,
     "metadata": {},
     "output_type": "execute_result"
    }
   ],
   "source": [
    "df_m3=df_m3.to_frame()\n",
    "df_m3.rename(columns={'result':'winrate'}, inplace=True)\n",
    "df_m3"
   ]
  },
  {
   "cell_type": "code",
   "execution_count": 18,
   "metadata": {},
   "outputs": [
    {
     "data": {
      "text/html": [
       "<div>\n",
       "<style scoped>\n",
       "    .dataframe tbody tr th:only-of-type {\n",
       "        vertical-align: middle;\n",
       "    }\n",
       "\n",
       "    .dataframe tbody tr th {\n",
       "        vertical-align: top;\n",
       "    }\n",
       "\n",
       "    .dataframe thead th {\n",
       "        text-align: right;\n",
       "    }\n",
       "</style>\n",
       "<table border=\"1\" class=\"dataframe\">\n",
       "  <thead>\n",
       "    <tr style=\"text-align: right;\">\n",
       "      <th></th>\n",
       "      <th></th>\n",
       "      <th></th>\n",
       "      <th>winrate</th>\n",
       "    </tr>\n",
       "    <tr>\n",
       "      <th></th>\n",
       "      <th>league</th>\n",
       "      <th>team</th>\n",
       "      <th></th>\n",
       "    </tr>\n",
       "  </thead>\n",
       "  <tbody>\n",
       "    <tr>\n",
       "      <th rowspan=\"3\" valign=\"top\">0</th>\n",
       "      <th rowspan=\"3\" valign=\"top\">Belgium Jupiler League</th>\n",
       "      <th>RSC Anderlecht</th>\n",
       "      <td>0.641509</td>\n",
       "    </tr>\n",
       "    <tr>\n",
       "      <th>Club Brugge KV</th>\n",
       "      <td>0.580189</td>\n",
       "    </tr>\n",
       "    <tr>\n",
       "      <th>KAA Gent</th>\n",
       "      <td>0.500000</td>\n",
       "    </tr>\n",
       "    <tr>\n",
       "      <th rowspan=\"3\" valign=\"top\">1</th>\n",
       "      <th rowspan=\"3\" valign=\"top\">England Premier League</th>\n",
       "      <th>Manchester United</th>\n",
       "      <td>0.631579</td>\n",
       "    </tr>\n",
       "    <tr>\n",
       "      <th>Chelsea</th>\n",
       "      <td>0.578947</td>\n",
       "    </tr>\n",
       "    <tr>\n",
       "      <th>Manchester City</th>\n",
       "      <td>0.575658</td>\n",
       "    </tr>\n",
       "    <tr>\n",
       "      <th rowspan=\"3\" valign=\"top\">2</th>\n",
       "      <th rowspan=\"3\" valign=\"top\">France Ligue 1</th>\n",
       "      <th>Paris Saint-Germain</th>\n",
       "      <td>0.575658</td>\n",
       "    </tr>\n",
       "    <tr>\n",
       "      <th>Olympique Lyonnais</th>\n",
       "      <td>0.503289</td>\n",
       "    </tr>\n",
       "    <tr>\n",
       "      <th>LOSC Lille</th>\n",
       "      <td>0.483553</td>\n",
       "    </tr>\n",
       "    <tr>\n",
       "      <th rowspan=\"3\" valign=\"top\">3</th>\n",
       "      <th rowspan=\"3\" valign=\"top\">Germany 1. Bundesliga</th>\n",
       "      <th>FC Bayern Munich</th>\n",
       "      <td>0.709559</td>\n",
       "    </tr>\n",
       "    <tr>\n",
       "      <th>Borussia Dortmund</th>\n",
       "      <td>0.577206</td>\n",
       "    </tr>\n",
       "    <tr>\n",
       "      <th>Bayer 04 Leverkusen</th>\n",
       "      <td>0.503676</td>\n",
       "    </tr>\n",
       "    <tr>\n",
       "      <th rowspan=\"3\" valign=\"top\">4</th>\n",
       "      <th rowspan=\"3\" valign=\"top\">Italy Serie A</th>\n",
       "      <th>Juventus</th>\n",
       "      <td>0.627907</td>\n",
       "    </tr>\n",
       "    <tr>\n",
       "      <th>Roma</th>\n",
       "      <td>0.534653</td>\n",
       "    </tr>\n",
       "    <tr>\n",
       "      <th>Napoli</th>\n",
       "      <td>0.508306</td>\n",
       "    </tr>\n",
       "    <tr>\n",
       "      <th rowspan=\"3\" valign=\"top\">5</th>\n",
       "      <th rowspan=\"3\" valign=\"top\">Netherlands Eredivisie</th>\n",
       "      <th>Ajax</th>\n",
       "      <td>0.665441</td>\n",
       "    </tr>\n",
       "    <tr>\n",
       "      <th>PSV</th>\n",
       "      <td>0.654412</td>\n",
       "    </tr>\n",
       "    <tr>\n",
       "      <th>FC Twente</th>\n",
       "      <td>0.529412</td>\n",
       "    </tr>\n",
       "    <tr>\n",
       "      <th rowspan=\"3\" valign=\"top\">6</th>\n",
       "      <th rowspan=\"3\" valign=\"top\">Poland Ekstraklasa</th>\n",
       "      <th>Legia Warszawa</th>\n",
       "      <td>0.570833</td>\n",
       "    </tr>\n",
       "    <tr>\n",
       "      <th>Lech Poznań</th>\n",
       "      <td>0.516667</td>\n",
       "    </tr>\n",
       "    <tr>\n",
       "      <th>Wisła Kraków</th>\n",
       "      <td>0.450000</td>\n",
       "    </tr>\n",
       "    <tr>\n",
       "      <th rowspan=\"3\" valign=\"top\">7</th>\n",
       "      <th rowspan=\"3\" valign=\"top\">Portugal Liga ZON Sagres</th>\n",
       "      <th>SL Benfica</th>\n",
       "      <td>0.745968</td>\n",
       "    </tr>\n",
       "    <tr>\n",
       "      <th>FC Porto</th>\n",
       "      <td>0.737903</td>\n",
       "    </tr>\n",
       "    <tr>\n",
       "      <th>Sporting CP</th>\n",
       "      <td>0.580645</td>\n",
       "    </tr>\n",
       "    <tr>\n",
       "      <th rowspan=\"3\" valign=\"top\">8</th>\n",
       "      <th rowspan=\"3\" valign=\"top\">Scotland Premier League</th>\n",
       "      <th>Celtic</th>\n",
       "      <td>0.717105</td>\n",
       "    </tr>\n",
       "    <tr>\n",
       "      <th>Rangers</th>\n",
       "      <td>0.710526</td>\n",
       "    </tr>\n",
       "    <tr>\n",
       "      <th>Motherwell</th>\n",
       "      <td>0.401316</td>\n",
       "    </tr>\n",
       "    <tr>\n",
       "      <th rowspan=\"3\" valign=\"top\">9</th>\n",
       "      <th rowspan=\"3\" valign=\"top\">Spain LIGA BBVA</th>\n",
       "      <th>FC Barcelona</th>\n",
       "      <td>0.769737</td>\n",
       "    </tr>\n",
       "    <tr>\n",
       "      <th>Real Madrid CF</th>\n",
       "      <td>0.750000</td>\n",
       "    </tr>\n",
       "    <tr>\n",
       "      <th>Atlético Madrid</th>\n",
       "      <td>0.549342</td>\n",
       "    </tr>\n",
       "    <tr>\n",
       "      <th rowspan=\"3\" valign=\"top\">10</th>\n",
       "      <th rowspan=\"3\" valign=\"top\">Switzerland Super League</th>\n",
       "      <th>FC Basel</th>\n",
       "      <td>0.629371</td>\n",
       "    </tr>\n",
       "    <tr>\n",
       "      <th>BSC Young Boys</th>\n",
       "      <td>0.496503</td>\n",
       "    </tr>\n",
       "    <tr>\n",
       "      <th>FC Zürich</th>\n",
       "      <td>0.419580</td>\n",
       "    </tr>\n",
       "  </tbody>\n",
       "</table>\n",
       "</div>"
      ],
      "text/plain": [
       "                                                  winrate\n",
       "   league                   team                         \n",
       "0  Belgium Jupiler League   RSC Anderlecht       0.641509\n",
       "                            Club Brugge KV       0.580189\n",
       "                            KAA Gent             0.500000\n",
       "1  England Premier League   Manchester United    0.631579\n",
       "                            Chelsea              0.578947\n",
       "                            Manchester City      0.575658\n",
       "2  France Ligue 1           Paris Saint-Germain  0.575658\n",
       "                            Olympique Lyonnais   0.503289\n",
       "                            LOSC Lille           0.483553\n",
       "3  Germany 1. Bundesliga    FC Bayern Munich     0.709559\n",
       "                            Borussia Dortmund    0.577206\n",
       "                            Bayer 04 Leverkusen  0.503676\n",
       "4  Italy Serie A            Juventus             0.627907\n",
       "                            Roma                 0.534653\n",
       "                            Napoli               0.508306\n",
       "5  Netherlands Eredivisie   Ajax                 0.665441\n",
       "                            PSV                  0.654412\n",
       "                            FC Twente            0.529412\n",
       "6  Poland Ekstraklasa       Legia Warszawa       0.570833\n",
       "                            Lech Poznań          0.516667\n",
       "                            Wisła Kraków         0.450000\n",
       "7  Portugal Liga ZON Sagres SL Benfica           0.745968\n",
       "                            FC Porto             0.737903\n",
       "                            Sporting CP          0.580645\n",
       "8  Scotland Premier League  Celtic               0.717105\n",
       "                            Rangers              0.710526\n",
       "                            Motherwell           0.401316\n",
       "9  Spain LIGA BBVA          FC Barcelona         0.769737\n",
       "                            Real Madrid CF       0.750000\n",
       "                            Atlético Madrid      0.549342\n",
       "10 Switzerland Super League FC Basel             0.629371\n",
       "                            BSC Young Boys       0.496503\n",
       "                            FC Zürich            0.419580"
      ]
     },
     "execution_count": 18,
     "metadata": {},
     "output_type": "execute_result"
    }
   ],
   "source": [
    "def get_max3(x):\n",
    "    return x.sort_values(by='winrate',ascending=False).head(3)\n",
    "maxwinrate=df_m3.groupby('league',as_index=False).apply(get_max3)\n",
    "maxwinrate"
   ]
  },
  {
   "cell_type": "code",
   "execution_count": 19,
   "metadata": {},
   "outputs": [
    {
     "data": {
      "image/png": "[encoded data removed]",
      "text/plain": [
       "<Figure size 1080x504 with 1 Axes>"
      ]
     },
     "metadata": {
      "needs_background": "dark"
     },
     "output_type": "display_data"
    }
   ],
   "source": [
    "# creat a visualization for the finding\n",
    "maxwinrate.plot(kind='bar',figsize =(15, 7),cmap=\"viridis\")\n",
    "plt.ylabel('Winrate',color='tomato', fontweight ='bold', fontsize = 15)\n",
    "plt.xlabel('Equipes',color='tomato', fontweight ='bold', fontsize = 15)\n",
    "plt.title('top 3 Winrate de chaque league', color='tomato', fontweight ='bold', fontsize = 15);\n",
    "plt.xticks(color='tomato', fontweight ='bold', fontsize = 12);\n",
    "plt.yticks(color='tomato', fontweight ='bold', fontsize = 12);"
   ]
  },
  {
   "cell_type": "markdown",
   "metadata": {},
   "source": [
    "On constate que se les ligues Portugal, espagne, scotland et l'allemagne il y a une grande domination d'une ou deux équipes avec un winrate de plus de 70% ce qui explique leurs dominance aussi sur la ligue des champions."
   ]
  },
  {
   "cell_type": "markdown",
   "metadata": {},
   "source": [
    "### Question 3  (quelle relation y a t'il entre le score de dribling, passes et tir sur le winrate d'une équipe )"
   ]
  },
  {
   "cell_type": "markdown",
   "metadata": {
    "collapsed": true
   },
   "source": [
    "Dans cette partie nous allons regrouper winrate et attribue dans une seule table afin de creer un nuage de point qui nous montre s'il y a un correlation entre le **winrate** et les autre variables indépendentes"
   ]
  },
  {
   "cell_type": "code",
   "execution_count": 20,
   "metadata": {},
   "outputs": [],
   "source": [
    "#mering the two datasets\n",
    "df_cor = pd.merge(df_m3,df_at.groupby('team_long_name',as_index=False).mean(),left_on='team',right_on='team_long_name')"
   ]
  },
  {
   "cell_type": "code",
   "execution_count": 21,
   "metadata": {
    "scrolled": true
   },
   "outputs": [
    {
     "data": {
      "text/html": [
       "<div>\n",
       "<style scoped>\n",
       "    .dataframe tbody tr th:only-of-type {\n",
       "        vertical-align: middle;\n",
       "    }\n",
       "\n",
       "    .dataframe tbody tr th {\n",
       "        vertical-align: top;\n",
       "    }\n",
       "\n",
       "    .dataframe thead th {\n",
       "        text-align: right;\n",
       "    }\n",
       "</style>\n",
       "<table border=\"1\" class=\"dataframe\">\n",
       "  <thead>\n",
       "    <tr style=\"text-align: right;\">\n",
       "      <th></th>\n",
       "      <th>winrate</th>\n",
       "      <th>team_long_name</th>\n",
       "      <th>buildUpPlaySpeed</th>\n",
       "      <th>buildUpPlayDribbling</th>\n",
       "      <th>buildUpPlayPassing</th>\n",
       "      <th>chanceCreationShooting</th>\n",
       "      <th>defencePressure</th>\n",
       "      <th>defenceAggression</th>\n",
       "    </tr>\n",
       "  </thead>\n",
       "  <tbody>\n",
       "    <tr>\n",
       "      <th>0</th>\n",
       "      <td>0.263158</td>\n",
       "      <td>Beerschot AC</td>\n",
       "      <td>46.000000</td>\n",
       "      <td>NaN</td>\n",
       "      <td>41.500000</td>\n",
       "      <td>53.750000</td>\n",
       "      <td>48.250000</td>\n",
       "      <td>49.000000</td>\n",
       "    </tr>\n",
       "    <tr>\n",
       "      <th>1</th>\n",
       "      <td>0.580189</td>\n",
       "      <td>Club Brugge KV</td>\n",
       "      <td>49.166667</td>\n",
       "      <td>52.0</td>\n",
       "      <td>46.500000</td>\n",
       "      <td>47.666667</td>\n",
       "      <td>53.666667</td>\n",
       "      <td>53.833333</td>\n",
       "    </tr>\n",
       "    <tr>\n",
       "      <th>2</th>\n",
       "      <td>0.500000</td>\n",
       "      <td>KAA Gent</td>\n",
       "      <td>54.166667</td>\n",
       "      <td>55.0</td>\n",
       "      <td>46.333333</td>\n",
       "      <td>44.166667</td>\n",
       "      <td>51.333333</td>\n",
       "      <td>50.000000</td>\n",
       "    </tr>\n",
       "    <tr>\n",
       "      <th>3</th>\n",
       "      <td>0.166667</td>\n",
       "      <td>KAS Eupen</td>\n",
       "      <td>50.000000</td>\n",
       "      <td>NaN</td>\n",
       "      <td>55.000000</td>\n",
       "      <td>55.000000</td>\n",
       "      <td>50.000000</td>\n",
       "      <td>50.000000</td>\n",
       "    </tr>\n",
       "    <tr>\n",
       "      <th>4</th>\n",
       "      <td>0.457547</td>\n",
       "      <td>KRC Genk</td>\n",
       "      <td>56.333333</td>\n",
       "      <td>52.0</td>\n",
       "      <td>44.333333</td>\n",
       "      <td>55.833333</td>\n",
       "      <td>49.166667</td>\n",
       "      <td>50.666667</td>\n",
       "    </tr>\n",
       "    <tr>\n",
       "      <th>...</th>\n",
       "      <td>...</td>\n",
       "      <td>...</td>\n",
       "      <td>...</td>\n",
       "      <td>...</td>\n",
       "      <td>...</td>\n",
       "      <td>...</td>\n",
       "      <td>...</td>\n",
       "      <td>...</td>\n",
       "    </tr>\n",
       "    <tr>\n",
       "      <th>280</th>\n",
       "      <td>0.175926</td>\n",
       "      <td>FC Vaduz</td>\n",
       "      <td>53.000000</td>\n",
       "      <td>32.0</td>\n",
       "      <td>56.000000</td>\n",
       "      <td>46.000000</td>\n",
       "      <td>42.000000</td>\n",
       "      <td>33.000000</td>\n",
       "    </tr>\n",
       "    <tr>\n",
       "      <th>281</th>\n",
       "      <td>0.419580</td>\n",
       "      <td>FC Zürich</td>\n",
       "      <td>56.833333</td>\n",
       "      <td>49.0</td>\n",
       "      <td>50.000000</td>\n",
       "      <td>53.500000</td>\n",
       "      <td>48.666667</td>\n",
       "      <td>46.000000</td>\n",
       "    </tr>\n",
       "    <tr>\n",
       "      <th>282</th>\n",
       "      <td>0.402098</td>\n",
       "      <td>Grasshopper Club Zürich</td>\n",
       "      <td>49.500000</td>\n",
       "      <td>60.0</td>\n",
       "      <td>53.166667</td>\n",
       "      <td>50.333333</td>\n",
       "      <td>37.833333</td>\n",
       "      <td>46.666667</td>\n",
       "    </tr>\n",
       "    <tr>\n",
       "      <th>283</th>\n",
       "      <td>0.285714</td>\n",
       "      <td>Neuchâtel Xamax</td>\n",
       "      <td>54.333333</td>\n",
       "      <td>NaN</td>\n",
       "      <td>47.333333</td>\n",
       "      <td>49.000000</td>\n",
       "      <td>44.333333</td>\n",
       "      <td>40.333333</td>\n",
       "    </tr>\n",
       "    <tr>\n",
       "      <th>284</th>\n",
       "      <td>0.285714</td>\n",
       "      <td>Servette FC</td>\n",
       "      <td>42.000000</td>\n",
       "      <td>NaN</td>\n",
       "      <td>52.333333</td>\n",
       "      <td>50.000000</td>\n",
       "      <td>51.000000</td>\n",
       "      <td>50.000000</td>\n",
       "    </tr>\n",
       "  </tbody>\n",
       "</table>\n",
       "<p>285 rows × 8 columns</p>\n",
       "</div>"
      ],
      "text/plain": [
       "      winrate           team_long_name  buildUpPlaySpeed  \\\n",
       "0    0.263158             Beerschot AC         46.000000   \n",
       "1    0.580189           Club Brugge KV         49.166667   \n",
       "2    0.500000                 KAA Gent         54.166667   \n",
       "3    0.166667                KAS Eupen         50.000000   \n",
       "4    0.457547                 KRC Genk         56.333333   \n",
       "..        ...                      ...               ...   \n",
       "280  0.175926                 FC Vaduz         53.000000   \n",
       "281  0.419580                FC Zürich         56.833333   \n",
       "282  0.402098  Grasshopper Club Zürich         49.500000   \n",
       "283  0.285714          Neuchâtel Xamax         54.333333   \n",
       "284  0.285714              Servette FC         42.000000   \n",
       "\n",
       "     buildUpPlayDribbling  buildUpPlayPassing  chanceCreationShooting  \\\n",
       "0                     NaN           41.500000               53.750000   \n",
       "1                    52.0           46.500000               47.666667   \n",
       "2                    55.0           46.333333               44.166667   \n",
       "3                     NaN           55.000000               55.000000   \n",
       "4                    52.0           44.333333               55.833333   \n",
       "..                    ...                 ...                     ...   \n",
       "280                  32.0           56.000000               46.000000   \n",
       "281                  49.0           50.000000               53.500000   \n",
       "282                  60.0           53.166667               50.333333   \n",
       "283                   NaN           47.333333               49.000000   \n",
       "284                   NaN           52.333333               50.000000   \n",
       "\n",
       "     defencePressure  defenceAggression  \n",
       "0          48.250000          49.000000  \n",
       "1          53.666667          53.833333  \n",
       "2          51.333333          50.000000  \n",
       "3          50.000000          50.000000  \n",
       "4          49.166667          50.666667  \n",
       "..               ...                ...  \n",
       "280        42.000000          33.000000  \n",
       "281        48.666667          46.000000  \n",
       "282        37.833333          46.666667  \n",
       "283        44.333333          40.333333  \n",
       "284        51.000000          50.000000  \n",
       "\n",
       "[285 rows x 8 columns]"
      ]
     },
     "execution_count": 21,
     "metadata": {},
     "output_type": "execute_result"
    }
   ],
   "source": [
    "df_cor"
   ]
  },
  {
   "cell_type": "markdown",
   "metadata": {},
   "source": [
    "1. Nous allons commencer par verifier la relation entre le **winrate** et la **vitesse de jeu**"
   ]
  },
  {
   "cell_type": "code",
   "execution_count": 22,
   "metadata": {
    "scrolled": true
   },
   "outputs": [
    {
     "data": {
      "image/png": "[encoded data removed]",
      "text/plain": [
       "<Figure size 1080x576 with 1 Axes>"
      ]
     },
     "metadata": {
      "needs_background": "dark"
     },
     "output_type": "display_data"
    }
   ],
   "source": [
    "plt.figure(figsize=(15, 8))\n",
    "plt.scatter( df_cor['buildUpPlaySpeed'],df_cor['winrate'])\n",
    "plt.ylabel('Winrate',color='tomato', fontweight ='bold', fontsize = 15)\n",
    "plt.xlabel('Speed score',color='tomato', fontweight ='bold', fontsize = 15)\n",
    "plt.title('relation entre speed et winrate', color='tomato', fontweight ='bold', fontsize = 15);\n",
    "plt.xticks(color='tomato', fontweight ='bold', fontsize = 12);\n",
    "plt.yticks(color='tomato', fontweight ='bold', fontsize = 12)\n",
    "plt.show()"
   ]
  },
  {
   "cell_type": "code",
   "execution_count": 23,
   "metadata": {},
   "outputs": [
    {
     "data": {
      "text/plain": [
       "array([[1.       , 0.0229222],\n",
       "       [0.0229222, 1.       ]])"
      ]
     },
     "execution_count": 23,
     "metadata": {},
     "output_type": "execute_result"
    }
   ],
   "source": [
    "np.corrcoef( df_cor['buildUpPlaySpeed'],df_cor['winrate'])"
   ]
  },
  {
   "cell_type": "markdown",
   "metadata": {},
   "source": [
    "On constate que l'augmentation de la vitesse de jeu a une correlation trés faible et le calcule du coéficient de corrélation le montre aussi avec un une valeur de 0.02"
   ]
  },
  {
   "cell_type": "markdown",
   "metadata": {},
   "source": [
    "2. nous allons passer à la deuxième relation le **dribbling** et **winrate** mais nous allons premièrement résoudre le problème des valeurs nulles"
   ]
  },
  {
   "cell_type": "code",
   "execution_count": 24,
   "metadata": {},
   "outputs": [
    {
     "data": {
      "image/png": "[encoded data removed]",
      "text/plain": [
       "<Figure size 1080x576 with 1 Axes>"
      ]
     },
     "metadata": {
      "needs_background": "dark"
     },
     "output_type": "display_data"
    }
   ],
   "source": [
    "plt.figure(figsize=(15, 8))\n",
    "plt.scatter( df_cor['buildUpPlayDribbling'],df_cor['winrate'])\n",
    "plt.ylabel('Winrate',color='tomato', fontweight ='bold', fontsize = 15)\n",
    "plt.xlabel('Dribbling score',color='tomato', fontweight ='bold', fontsize = 15)\n",
    "plt.title('relation entre Dribbling et winrate', color='tomato', fontweight ='bold', fontsize = 15);\n",
    "plt.xticks(color='tomato', fontweight ='bold', fontsize = 12);\n",
    "plt.yticks(color='tomato', fontweight ='bold', fontsize = 12)\n",
    "plt.show()"
   ]
  },
  {
   "cell_type": "code",
   "execution_count": 25,
   "metadata": {},
   "outputs": [
    {
     "data": {
      "text/plain": [
       "array([[1.        , 0.06093864],\n",
       "       [0.06093864, 1.        ]])"
      ]
     },
     "execution_count": 25,
     "metadata": {},
     "output_type": "execute_result"
    }
   ],
   "source": [
    "df_cor2 = df_cor.copy()\n",
    "df_cor2.dropna(inplace=True)\n",
    "df_cor2\n",
    "np.corrcoef( df_cor2['buildUpPlayDribbling'],df_cor2['winrate'])"
   ]
  },
  {
   "cell_type": "markdown",
   "metadata": {},
   "source": [
    "la relation entre le dribble et le winrate est faiblement positive cela est montrer aussi avec le coéficient de corrélation qui est de 0.06"
   ]
  },
  {
   "cell_type": "markdown",
   "metadata": {},
   "source": [
    "3. nous allons analyser la relation est les passes et le winrate"
   ]
  },
  {
   "cell_type": "code",
   "execution_count": 26,
   "metadata": {
    "scrolled": true
   },
   "outputs": [
    {
     "data": {
      "image/png": "[encoded data removed]",
      "text/plain": [
       "<Figure size 1080x576 with 1 Axes>"
      ]
     },
     "metadata": {
      "needs_background": "dark"
     },
     "output_type": "display_data"
    }
   ],
   "source": [
    "plt.figure(figsize=(15, 8))\n",
    "plt.scatter( df_cor['buildUpPlayPassing'],df_cor['winrate'])\n",
    "plt.ylabel('Winrate',color='tomato', fontweight ='bold', fontsize = 15)\n",
    "plt.xlabel('Passing score',color='tomato', fontweight ='bold', fontsize = 15)\n",
    "plt.title('relation entre passing et winrate', color='tomato', fontweight ='bold', fontsize = 15);\n",
    "plt.xticks(color='tomato', fontweight ='bold', fontsize = 12);\n",
    "plt.yticks(color='tomato', fontweight ='bold', fontsize = 12)\n",
    "plt.show()"
   ]
  },
  {
   "cell_type": "code",
   "execution_count": 27,
   "metadata": {
    "scrolled": true
   },
   "outputs": [
    {
     "data": {
      "text/plain": [
       "array([[ 1.      , -0.294345],\n",
       "       [-0.294345,  1.      ]])"
      ]
     },
     "execution_count": 27,
     "metadata": {},
     "output_type": "execute_result"
    }
   ],
   "source": [
    "np.corrcoef( df_cor['buildUpPlayPassing'],df_cor['winrate'])"
   ]
  },
  {
   "cell_type": "markdown",
   "metadata": {},
   "source": [
    "Contrairement aux attentes nous remarquons qu'il y a une relation négative un peu faible entre le score des passes et le winrate, cela devrait être encore plus analysé en profondeur pour avoir plus d'information avant d'avoir une conclusion"
   ]
  },
  {
   "cell_type": "markdown",
   "metadata": {},
   "source": [
    "4. Finalement nous allons analyser la relation entre la création de chance de tir et le winrate"
   ]
  },
  {
   "cell_type": "code",
   "execution_count": 28,
   "metadata": {},
   "outputs": [
    {
     "data": {
      "image/png": "[encoded data removed]",
      "text/plain": [
       "<Figure size 1080x576 with 1 Axes>"
      ]
     },
     "metadata": {
      "needs_background": "dark"
     },
     "output_type": "display_data"
    }
   ],
   "source": [
    "plt.figure(figsize=(15, 8))\n",
    "plt.scatter( df_cor['chanceCreationShooting'],df_cor['winrate'])\n",
    "plt.ylabel('Winrate',color='tomato', fontweight ='bold', fontsize = 15)\n",
    "plt.xlabel('chance Creation Shooting score',color='tomato', fontweight ='bold', fontsize = 15)\n",
    "plt.title('relation entre tir et winrate', color='tomato', fontweight ='bold', fontsize = 15);\n",
    "plt.xticks(color='tomato', fontweight ='bold', fontsize = 12);\n",
    "plt.yticks(color='tomato', fontweight ='bold', fontsize = 12)\n",
    "plt.show()"
   ]
  },
  {
   "cell_type": "code",
   "execution_count": 29,
   "metadata": {},
   "outputs": [
    {
     "data": {
      "text/plain": [
       "array([[1.        , 0.17548371],\n",
       "       [0.17548371, 1.        ]])"
      ]
     },
     "execution_count": 29,
     "metadata": {},
     "output_type": "execute_result"
    }
   ],
   "source": [
    "np.corrcoef( df_cor['chanceCreationShooting'],df_cor['winrate'])"
   ]
  },
  {
   "cell_type": "markdown",
   "metadata": {},
   "source": [
    "la correlation entre le tir et positive mais faible et cela peux être analysé plus en profondeur car peut être il y a des équipes qui sont faible à rentabiliser les chances de tirs"
   ]
  },
  {
   "cell_type": "markdown",
   "metadata": {},
   "source": [
    "<a id='conclusions'></a>\n",
    "## Conclusions\n",
    "\n",
    "Dans ce rapport nous avons essayé de analyser les points forts de chaque League avec un moyenne général sur une période entre 2008 et 2016 et cela nous a donner une idée sur le style de jeu de chaque League, après nous avons essayé de voir s'il y a une relation avec les attribut d'attaques de de chaque équipe et le Winrate de cette dernière et nous avons trouvé que les relation sont faible à individuellement ce qui nous pousse à la réflexion sur la combinaison d'attributs d'attaques et de défenses qui peux être explorer avec des modèles économétrique et de calculer l'impact générale du modèle sur la variable dépendant qui est le Winrate.<br>\n",
    "L’ensemble des données analysée contient des limitations surtout la dataFrame des attributs. L'évaluations des équipes ne suit pas un enchainement chronologique pour toutes les équipes, on peut trouver des équipes qui ont 4 à 5 évaluations mais d'autre avec 3 évaluations, cette limitation nous a empêché d'analyser l'évolution de chaque équipe en winrate par rapport à l'évolution des leurs attributs ce qui pouvait nous montrer quel attribut avait jouer un rôle important sur l'évolution des résultats d'une équipes. "
   ]
  },
  {
   "cell_type": "code",
   "execution_count": null,
   "metadata": {
    "collapsed": true
   },
   "outputs": [],
   "source": []
  }
 ],
 "metadata": {
  "kernelspec": {
   "display_name": "Python 3 (ipykernel)",
   "language": "python",
   "name": "python3"
  },
  "language_info": {
   "codemirror_mode": {
    "name": "ipython",
    "version": 3
   },
   "file_extension": ".py",
   "mimetype": "text/x-python",
   "name": "python",
   "nbconvert_exporter": "python",
   "pygments_lexer": "ipython3",
   "version": "3.9.12"
  }
 },
 "nbformat": 4,
 "nbformat_minor": 2
}
